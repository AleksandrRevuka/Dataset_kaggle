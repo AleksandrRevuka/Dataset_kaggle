{
 "cells": [
  {
   "cell_type": "code",
   "execution_count": 1,
   "metadata": {},
   "outputs": [],
   "source": [
    "import os\n",
    "import shutil"
   ]
  },
  {
   "cell_type": "code",
   "execution_count": 3,
   "metadata": {},
   "outputs": [
    {
     "name": "stdout",
     "output_type": "stream",
     "text": [
      "/home/alex/Python_projects/Dataset_kaggle/dataset\n"
     ]
    }
   ],
   "source": [
    "current_directory = os.getcwd()\n",
    "dataset_directory = os.path.abspath(os.path.join(current_directory, \"dataset\"))\n",
    "print(dataset_directory)"
   ]
  },
  {
   "cell_type": "code",
   "execution_count": 7,
   "metadata": {},
   "outputs": [],
   "source": [
    "archive_path = os.path.join(dataset_directory, \"cardataset.zip\")\n",
    "cardataset_directory = os.path.join(dataset_directory, \"cardataset\")\n",
    "os.mkdir(cardataset_directory)\n",
    "shutil.unpack_archive(archive_path, cardataset_directory)"
   ]
  }
 ],
 "metadata": {
  "kernelspec": {
   "display_name": "env_for_gpu",
   "language": "python",
   "name": "python3"
  },
  "language_info": {
   "codemirror_mode": {
    "name": "ipython",
    "version": 3
   },
   "file_extension": ".py",
   "mimetype": "text/x-python",
   "name": "python",
   "nbconvert_exporter": "python",
   "pygments_lexer": "ipython3",
   "version": "3.11.7"
  }
 },
 "nbformat": 4,
 "nbformat_minor": 2
}
